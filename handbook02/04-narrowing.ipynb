{
 "cells": [
  {
   "cell_type": "markdown",
   "id": "36506ed7-c96c-468a-8d34-41b9ec9059c0",
   "metadata": {},
   "source": [
    "# 类型缩小\n",
    "\n",
    "**[Reference](https://ts.nodejs.cn/docs/handbook/2/narrowing.html)**\n",
    "\n",
    "假设我们有一个名为 padLeft 的函数。\n",
    "\n",
    "```ts\n",
    "function padLeft(padding: number | string, input: string): string {\n",
    "  throw new Error(\"Not implemented yet!\");\n",
    "}\n",
    "```\n",
    "\n",
    "如果 `padding` 是 `number`，它会将其视为我们想要添加到 `input` 的空格数。 如果 `padding` 是 `string`，它应该只是将 `padding` 前置到 `input`。 让我们尝试实现当 `padLeft` 为 `padding` 传递 `number` 时的逻辑。\n",
    "\n",
    "```ts\n",
    "function padLeft(padding: number | string, input: string) {\n",
    "  return \" \".repeat(padding) + input;\n",
    "// Argument of type 'string | number' is not assignable to parameter of type 'number'.\n",
    "//   Type 'string' is not assignable to type 'number'.\n",
    "}\n",
    "```\n",
    "\n",
    "哦，我们在 `padding` 上遇到错误。 TypeScript 警告我们，我们正在将类型为 `number | string` 的值传递给 `repeat` 函数，它只接受 `number`，这是正确的。 换句话说，我们没有先明确检查 `padding` 是否是 `number`，也没有处理它是 `string` 的情况，所以让我们这样做。\n",
    "\n",
    "```ts\n",
    "function padLeft(padding: number | string, input: string) {\n",
    "  if (typeof padding === \"number\") {\n",
    "    return \" \".repeat(padding) + input;\n",
    "  }\n",
    "  return padding + input;\n",
    "}\n",
    "```\n",
    "\n",
    "如果这看起来像是无趣的 JavaScript 代码，那就是重点。 除了我们放置的注释之外，这个 TypeScript 代码看起来像 JavaScript。 这个想法是 TypeScript 的类型系统旨在使编写典型的 JavaScript 代码尽可能容易，而无需向后兼容以获得类型安全。\n",
    "\n",
    "虽然它看起来可能不多，但实际上在幕后发生了很多事情。 就像 TypeScript 如何使用静态类型分析运行时值一样，它在 JavaScript 的运行时控制流结构（如 `if/else`、条件三元组、循环、真实性检查等）上进行类型分析，这些都会影响这些类型。\n",
    "\n",
    "在我们的 `if` 检查中，TypeScript 看到 `typeof padding === \"number\"` 并将其理解为一种称为类型保护的特殊形式的代码。 TypeScript 遵循我们的程序可以采用的可能执行路径来分析给定位置的值的最具体的可能类型。 它着眼于这些特殊检查（称为类型保护）和赋值，将类型精炼为比声明的更具体的类型的过程称为缩小。 在许多编辑器中，我们可以观察这些类型的变化，我们甚至会在示例中这样做。\n",
    "\n",
    "```ts\n",
    "function padLeft(padding: number | string, input: string) {\n",
    "  if (typeof padding === \"number\") {\n",
    "    return \" \".repeat(padding) + input;\n",
    "                  // (parameter) padding: number\n",
    "  }\n",
    "  return padding + input;\n",
    "        // (parameter) padding: string\n",
    "}\n",
    "```\n",
    "\n",
    "TypeScript 可以理解几种不同的结构来缩小类型。"
   ]
  },
  {
   "cell_type": "markdown",
   "id": "58442c95-4b5d-4f92-a087-70b11eac35af",
   "metadata": {},
   "source": [
    "<br>\n",
    "\n",
    "## `typeof` 类型保护\n",
    "\n",
    "正如我们所见，JavaScript 支持 `typeof` 运算符，它可以提供关于我们在运行时拥有的值类型的非常基本的信息。 TypeScript 期望它返回一组特定的字符串："
   ]
  }
 ],
 "metadata": {
  "kernelspec": {
   "display_name": "Typescript 4.9",
   "language": "typescript",
   "name": "typescript"
  },
  "language_info": {
   "file_extension": ".ts",
   "mimetype": "application/x-typescript",
   "name": "typescript",
   "version": "4.9.5"
  }
 },
 "nbformat": 4,
 "nbformat_minor": 5
}
