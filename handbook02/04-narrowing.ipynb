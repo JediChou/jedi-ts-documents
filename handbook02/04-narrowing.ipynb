{
 "cells": [
  {
   "cell_type": "markdown",
   "id": "36506ed7-c96c-468a-8d34-41b9ec9059c0",
   "metadata": {},
   "source": [
    "# 类型缩小\n",
    "\n",
    "**[Reference](https://ts.nodejs.cn/docs/handbook/2/narrowing.html)**\n",
    "\n",
    "假设我们有一个名为 padLeft 的函数。\n",
    "\n",
    "```ts\n",
    "function padLeft(padding: number | string, input: string): string {\n",
    "  throw new Error(\"Not implemented yet!\");\n",
    "}\n",
    "```\n",
    "\n",
    "如果 `padding` 是 `number`，它会将其视为我们想要添加到 `input` 的空格数。 如果 `padding` 是 `string`，它应该只是将 `padding` 前置到 `input`。 让我们尝试实现当 `padLeft` 为 `padding` 传递 `number` 时的逻辑。\n",
    "\n",
    "```ts\n",
    "function padLeft(padding: number | string, input: string) {\n",
    "  return \" \".repeat(padding) + input;\n",
    "// Argument of type 'string | number' is not assignable to parameter of type 'number'.\n",
    "//   Type 'string' is not assignable to type 'number'.\n",
    "}\n",
    "```\n",
    "\n",
    "哦，我们在 `padding` 上遇到错误。 TypeScript 警告我们，我们正在将类型为 `number | string` 的值传递给 `repeat` 函数，它只接受 `number`，这是正确的。 换句话说，我们没有先明确检查 `padding` 是否是 `number`，也没有处理它是 `string` 的情况，所以让我们这样做。\n",
    "\n",
    "```ts\n",
    "function padLeft(padding: number | string, input: string) {\n",
    "  if (typeof padding === \"number\") {\n",
    "    return \" \".repeat(padding) + input;\n",
    "  }\n",
    "  return padding + input;\n",
    "}\n",
    "```\n",
    "\n",
    "如果这看起来像是无趣的 JavaScript 代码，那就是重点。 除了我们放置的注释之外，这个 TypeScript 代码看起来像 JavaScript。 这个想法是 TypeScript 的类型系统旨在使编写典型的 JavaScript 代码尽可能容易，而无需向后兼容以获得类型安全。\n"
   ]
  }
 ],
 "metadata": {
  "kernelspec": {
   "display_name": "Typescript 4.9",
   "language": "typescript",
   "name": "typescript"
  },
  "language_info": {
   "file_extension": ".ts",
   "mimetype": "application/x-typescript",
   "name": "typescript",
   "version": "4.9.5"
  }
 },
 "nbformat": 4,
 "nbformat_minor": 5
}
