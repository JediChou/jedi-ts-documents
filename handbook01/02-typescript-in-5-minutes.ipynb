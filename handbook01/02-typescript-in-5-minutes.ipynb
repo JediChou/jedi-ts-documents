{
 "cells": [
  {
   "cell_type": "markdown",
   "id": "766f6202-028c-4723-9332-3bbcc43c5636",
   "metadata": {},
   "source": [
    "# 面向 JavaScript 程序员的 TypeScript\n",
    "\n",
    "TypeScript 与 JavaScript 有着不同寻常的关系。 TypeScript 提供了 JavaScript 的所有功能，以及在这些功能之上的附加层： TypeScript 的类型系统。\n",
    "\n",
    "例如，JavaScript 提供像 `string` 和 `number` 这样的语言原语，但它不会检查你是否一致地分配了这些。 TypeScript 可以。\n",
    "\n",
    "这意味着你现有的工作 JavaScript 代码也是 TypeScript 代码。 TypeScript 的主要好处是它可以高亮代码中的意外行为，从而降低出现错误的可能性。\n",
    "\n",
    "本教程简要概述了 TypeScript，重点介绍了它的类型系统。"
   ]
  },
  {
   "cell_type": "markdown",
   "id": "d9003907-2e4a-4d3a-a19b-e79a9fc73fa7",
   "metadata": {},
   "source": [
    "<br>\n",
    "\n",
    "## 推断类型\n",
    "\n",
    "TypeScript 了解 JavaScript 语言，并会在许多情况下为你生成类型。 例如，在创建变量并将其分配给特定值时，TypeScript 将使用该值作为其类型。\n",
    "\n",
    "```ts\n",
    "let helloWorld = \"Hello World\";\n",
    "// let helloWorld: string\n",
    "```\n",
    "\n",
    "通过了解 JavaScript 的工作原理，TypeScript 可以构建一个接受 JavaScript 代码但具有类型的类型系统。 这提供了一个类型系统，无需添加额外的字符来在代码中明确显示类型。 在上面的例子中，TypeScript 就是这样知道 `helloWorld` 是 `string` 的。\n",
    "\n",
    "你可能已经在 Visual Studio Code 中编写过 JavaScript，并且具有编辑器自动补齐功能。 Visual Studio Code 在底层使用 TypeScript 来简化 JavaScript 的使用。"
   ]
  },
  {
   "cell_type": "markdown",
   "id": "3f36259f-aac2-49c2-8237-376db258a28f",
   "metadata": {},
   "source": [
    "<br>\n",
    "\n",
    "## 定义类型\n",
    "\n",
    "你可以在 JavaScript 中使用多种设计模式。 但是，某些设计模式使得自动推断类型变得困难（例如，使用动态编程的模式）。 为了涵盖这些情况，TypeScript 支持 JavaScript 语言的扩展，它为你提供了告诉 TypeScript 类型应该是什么的地方。\n",
    "\n",
    "例如，要创建一个包含 `name: string` 和 `id: number` 的推断类型的对象，你可以编写：\n",
    "\n",
    "```ts\n",
    "const user = {\n",
    "  name: \"Hayes\",\n",
    "  id: 0,\n",
    "};\n",
    "```\n",
    "\n",
    "你可以使用 `interface` 声明明确描述此对象的形状：\n",
    "\n",
    "```ts\n",
    "interface User {\n",
    "  name: string;\n",
    "  id: number;\n",
    "}\n",
    "```\n",
    "\n",
    "然后，你可以在变量声明后使用类似 `: TypeName` 的语法来声明 JavaScript 对象符合新 `interface` 的形状：\n",
    "\n",
    "```ts\n",
    "const user: User = {\n",
    "  name: \"Hayes\",\n",
    "  id: 0,\n",
    "};\n",
    "```\n",
    "\n",
    "如果你提供的对象与你提供的接口不匹配，TypeScript 会警告你：\n",
    "\n",
    "```ts\n",
    "interface User {\n",
    "  name: string;\n",
    "  id: number;\n",
    "}\n",
    " \n",
    "const user: User = {\n",
    "  username: \"Hayes\",\n",
    "// Type '{ username: string; id: number; }' is not assignable to type 'User'.\n",
    "//   Object literal may only specify known properties, and 'username' does not exist in type 'User'.\n",
    "  id: 0,\n",
    "};\n",
    "```\n",
    "\n",
    "由于 JavaScript 支持类和面向对象编程，因此 TypeScript 也支持。 你可以对类使用接口声明：\n"
   ]
  },
  {
   "cell_type": "code",
   "execution_count": 1,
   "id": "d5c662b8-1b50-4ab4-bb81-329e2c76ab8b",
   "metadata": {},
   "outputs": [
    {
     "data": {
      "text/html": [
       "<div style='background:#ffecb3;padding:1em;border-left:2px solid #ff6d00'><b>Configuration is not found!</b> Default configuration will be used: <pre>{\"module\":1,\"target\":1,\"moduleResolution\":2,\"esModuleInterop\":true}</pre></div>"
      ]
     },
     "execution_count": 1,
     "metadata": {},
     "output_type": "execute_result"
    },
    {
     "name": "stdout",
     "output_type": "stream",
     "text": [
      "UserAccount { name: 'Murphy', id: 1 }\n"
     ]
    }
   ],
   "source": [
    "interface User {\n",
    "  name: string;\n",
    "  id: number;\n",
    "}\n",
    " \n",
    "class UserAccount {\n",
    "  name: string;\n",
    "  id: number;\n",
    " \n",
    "  constructor(name: string, id: number) {\n",
    "    this.name = name;\n",
    "    this.id = id;\n",
    "  }\n",
    "}\n",
    " \n",
    "const user: User = new UserAccount(\"Murphy\", 1);\n",
    "console.log(user);"
   ]
  },
  {
   "cell_type": "markdown",
   "id": "d778d54e-d287-4ea2-ae65-aad141be92fd",
   "metadata": {},
   "source": [
    "<br>\n",
    "\n",
    "你可以使用接口来注释参数并将值返回给函数：\n",
    "\n",
    "```ts\n",
    "function deleteUser(user: User) {\n",
    "  // ...\n",
    "}\n",
    " \n",
    "function getAdminUser(): User {\n",
    "  //...\n",
    "}\n",
    "```\n",
    "\n",
    "JavaScript 中已经有一小部分原始类型可用： `boolean`、`bigint`、`null`、`number`、`string`、`symbol`、`undefined`，可在界面中使用。 TypeScript 用更多的东西扩展了这个列表，比如 `any`（允许任何东西）、[unknown](https://ts.nodejs.cn/play#example/unknown-and-never)（确保使用这个类型的人声明了这个类型是什么）、[never](https://ts.nodejs.cn/play#example/unknown-and-never)（这个类型不可能发生）和 `void`（一个函数返回 `undefined` 或没有返回值）。\n",
    "\n",
    "你会看到构建类型有两种语法： [接口和类型](https://ts.nodejs.cn/play/?e=83#example/types-vs-interfaces)。 你应该更喜欢 `interface`。 当你需要特定功能时，请使用 `type`。"
   ]
  },
  {
   "cell_type": "markdown",
   "id": "1f8efa68-2193-4dcb-b007-980120cf439e",
   "metadata": {},
   "source": [
    "<br>\n",
    "\n",
    "## 组合类型\n",
    "\n",
    "使用 TypeScript，你可以通过组合简单类型来创建复杂类型。 有两种流行的方法可以做到这一点： 联合和泛型。"
   ]
  },
  {
   "cell_type": "markdown",
   "id": "4e9a59bb-a34f-4445-a975-e94e18d14c0b",
   "metadata": {},
   "source": [
    "<br>\n",
    "\n",
    "### 联合\n",
    "\n",
    "使用联合，你可以声明一个类型可以是多种类型之一。 例如，你可以将 `boolean` 类型描述为 `true` 或 `false`：\n",
    "\n",
    "```ts\n",
    "type MyBool = true | false;\n",
    "```\n",
    "\n",
    "注意：如果将鼠标悬停在上面的 `MyBool` 上，你会看到它被归类为 `boolean`。 这是结构类型系统的一个属性。 更多内容请见下文。\n",
    "\n",
    "联合类型的一个流行用例是描述允许值是的 `string` 或 `number` [字面](https://ts.nodejs.cn/docs/handbook/2/everyday-types.html#literal-types) 的集合：\n",
    "\n",
    "```ts\n",
    "type WindowStates = \"open\" | \"closed\" | \"minimized\";\n",
    "type LockStates = \"locked\" | \"unlocked\";\n",
    "type PositiveOddNumbersUnderTen = 1 | 3 | 5 | 7 | 9;\n",
    "```\n",
    "\n",
    "联合也提供了一种处理不同类型的方法。 例如，你可能有一个接受 `array` 或 `string` 的函数：\n",
    "\n",
    "```ts\n",
    "function getLength(obj: string | string[]) {\n",
    "  return obj.length;\n",
    "}\n",
    "```\n",
    "\n",
    "要了解变量的类型，请使用 `typeof`：\n",
    "\n",
    "| 类型       | 谓词                               |\n",
    "|----------- |------------------------------------|\n",
    "| 字符串     | `typeof s === \"string\"`            |\n",
    "| 数字       | `typeof n === \"number\"`            |\n",
    "| 布尔值     | `typeof b === \"boolean\"`           |\n",
    "| undefined  | `typeof undefined === \"undefined\"` |\n",
    "| 函数       | `typeof f === \"function\"`          |\n",
    "| 数组       | `Array.isArray(a)`                 |\n",
    "\n",
    "例如，你可以根据传递给函数的是字符串还是数组来使函数返回不同的值：\n",
    "\n",
    "```ts\n",
    "function wrapInArray(obj: string | string[]) {\n",
    "  if (typeof obj === \"string\") {\n",
    "    return [obj];\n",
    "           // (parameter) obj: string\n",
    "  }\n",
    "  return obj;\n",
    "}\n",
    "```\n"
   ]
  },
  {
   "cell_type": "markdown",
   "id": "06551c1c-da3d-4492-a430-d7eb888bd7c4",
   "metadata": {},
   "source": [
    "<br>\n",
    "\n",
    "### 泛型\n",
    "\n",
    "泛型为类型提供变量。 一个常见的例子是数组。 没有泛型的数组可以包含任何东西。 具有泛型的数组可以描述数组包含的值。\n",
    "\n",
    "```ts\n",
    "type StringArray = Array<string>;\n",
    "type NumberArray = Array<number>;\n",
    "type ObjectWithNameArray = Array<{ name: string }>;\n",
    "```\n",
    "\n",
    "你可以声明自己的使用泛型的类型：\n",
    "\n",
    "```ts\n",
    "interface Backpack<Type> {\n",
    "  add: (obj: Type) => void;\n",
    "  get: () => Type;\n",
    "}\n",
    " \n",
    "// This line is a shortcut to tell TypeScript there is a\n",
    "// constant called `backpack`, and to not worry about where it came from.\n",
    "declare const backpack: Backpack<string>;\n",
    " \n",
    "// object is a string, because we declared it above as the variable part of Backpack.\n",
    "const object = backpack.get();\n",
    " \n",
    "// Since the backpack variable is a string, you can't pass a number to the add function.\n",
    "backpack.add(23);\n",
    "// Argument of type 'number' is not assignable to parameter of type 'string'.\n",
    "```\n"
   ]
  },
  {
   "cell_type": "markdown",
   "id": "223f8d3b-e420-476d-a1da-07c73ba93f15",
   "metadata": {},
   "source": [
    "<br>\n",
    "\n",
    "## 结构类型系统\n",
    "\n",
    "TypeScript 的核心原则之一是类型检查侧重于值的形状。 这有时称为 “duck typing” 或 “结构类型”。\n",
    "\n",
    "在结构类型系统中，如果两个对象具有相同的形状，则认为它们属于同一类型。"
   ]
  },
  {
   "cell_type": "code",
   "execution_count": 2,
   "id": "36139205-9c2f-4b25-b325-e581c357e493",
   "metadata": {},
   "outputs": [
    {
     "name": "stdout",
     "output_type": "stream",
     "text": [
      "12, 26\n"
     ]
    },
    {
     "data": {
      "text/plain": [
       "undefined"
      ]
     },
     "execution_count": 2,
     "metadata": {},
     "output_type": "execute_result"
    }
   ],
   "source": [
    "interface Point {\n",
    "  x: number;\n",
    "  y: number;\n",
    "}\n",
    " \n",
    "function logPoint(p: Point) {\n",
    "  console.log(`${p.x}, ${p.y}`);\n",
    "}\n",
    " \n",
    "// logs \"12, 26\"\n",
    "const point = { x: 12, y: 26 };\n",
    "logPoint(point);"
   ]
  },
  {
   "cell_type": "markdown",
   "id": "90ee2b7c-0375-4052-a5b5-4d51c5744b5e",
   "metadata": {},
   "source": [
    "<br>\n",
    "\n",
    "`point` 变量从未声明为 `Point` 类型。 但是，TypeScript 在类型检查中将 `point` 的形状与 `Point` 的形状进行比较。 它们具有相同的形状，因此代码通过。\n",
    "\n",
    "形状匹配只需要匹配对象字段的一个子集。"
   ]
  },
  {
   "cell_type": "code",
   "execution_count": 3,
   "id": "10823f70-f5a5-47fe-a62b-a0fdf6b00144",
   "metadata": {},
   "outputs": [
    {
     "ename": "Error",
     "evalue": "Line 8, Character 10\nlogPoint(color);\n_________^\nTS2345: Argument of type '{ hex: string; }' is not assignable to parameter of type 'Point'.\n  Type '{ hex: string; }' is missing the following properties from type 'Point': x, y",
     "execution_count": 3,
     "output_type": "error",
     "traceback": [
      "Error: Line 8, Character 10",
      "logPoint(color);",
      "_________^",
      "TS2345: Argument of type '{ hex: string; }' is not assignable to parameter of type 'Point'.",
      "  Type '{ hex: string; }' is missing the following properties from type 'Point': x, y",
      "    at execTranspile (C:\\Users\\Hao\\AppData\\Roaming\\npm\\node_modules\\itypescript\\lib\\kernel.js:229:23)",
      "    at Session.transpiler [as transpile] (C:\\Users\\Hao\\AppData\\Roaming\\npm\\node_modules\\itypescript\\lib\\kernel.js:288:35)",
      "    at Session._runNow (C:\\Users\\Hao\\AppData\\Roaming\\npm\\node_modules\\itypescript\\node_modules\\nel\\lib\\nel.js:835:39)",
      "    at Session._run (C:\\Users\\Hao\\AppData\\Roaming\\npm\\node_modules\\itypescript\\node_modules\\nel\\lib\\nel.js:786:14)",
      "    at Session.execute (C:\\Users\\Hao\\AppData\\Roaming\\npm\\node_modules\\itypescript\\node_modules\\nel\\lib\\nel.js:929:10)",
      "    at Kernel.execute_request (C:\\Users\\Hao\\AppData\\Roaming\\npm\\node_modules\\itypescript\\node_modules\\jp-kernel\\lib\\handlers_v5.js:116:18)",
      "    at Kernel.onShellMessage (C:\\Users\\Hao\\AppData\\Roaming\\npm\\node_modules\\itypescript\\node_modules\\jp-kernel\\lib\\jp-kernel.js:285:41)",
      "    at Socket.<anonymous> (C:\\Users\\Hao\\AppData\\Roaming\\npm\\node_modules\\itypescript\\node_modules\\jmp\\index.js:350:17)",
      "    at Socket.emit (node:events:513:28)",
      "    at Socket._emitMessage (C:\\Users\\Hao\\AppData\\Roaming\\npm\\node_modules\\itypescript\\node_modules\\zeromq\\lib\\index.js:649:15)"
     ]
    }
   ],
   "source": [
    "const point3 = { x: 12, y: 26, z: 89 };\n",
    "logPoint(point3); // logs \"12, 26\"\n",
    " \n",
    "const rect = { x: 33, y: 3, width: 30, height: 80 };\n",
    "logPoint(rect); // logs \"33, 3\"\n",
    " \n",
    "const color = { hex: \"#187ABF\" };\n",
    "logPoint(color);"
   ]
  },
  {
   "cell_type": "markdown",
   "id": "443b249d-5f33-4b3c-8d47-767a296d416e",
   "metadata": {},
   "source": [
    "<br>\n",
    "\n",
    "类和对象如何符合形状之间没有区别："
   ]
  },
  {
   "cell_type": "code",
   "execution_count": 4,
   "id": "3c162b91-2fa3-4797-b302-f3ca577602c2",
   "metadata": {},
   "outputs": [
    {
     "name": "stdout",
     "output_type": "stream",
     "text": [
      "13, 56\n"
     ]
    },
    {
     "data": {
      "text/plain": [
       "undefined"
      ]
     },
     "execution_count": 4,
     "metadata": {},
     "output_type": "execute_result"
    }
   ],
   "source": [
    "class VirtualPoint {\n",
    "  x: number;\n",
    "  y: number;\n",
    " \n",
    "  constructor(x: number, y: number) {\n",
    "    this.x = x;\n",
    "    this.y = y;\n",
    "  }\n",
    "}\n",
    " \n",
    "const newVPoint = new VirtualPoint(13, 56);\n",
    "logPoint(newVPoint); // logs \"13, 56\""
   ]
  },
  {
   "cell_type": "markdown",
   "id": "9c144978-8ea3-4500-9751-30f5953bc173",
   "metadata": {},
   "source": [
    "<br>\n",
    "\n",
    "如果对象或类具有所有必需的属性，TypeScript 会说它们匹配，而不管实现细节如何。"
   ]
  },
  {
   "cell_type": "markdown",
   "id": "6bbbc069-e3f6-4366-8cd8-e6b2b5ea3106",
   "metadata": {},
   "source": [
    "<br>\n",
    "\n",
    "## 下一步\n",
    "\n",
    "这是对日常 TypeScript 中使用的语法和工具的简要概述。 从这里，你可以：\n",
    "\n",
    "* [从头到尾](https://ts.nodejs.cn/docs/handbook/intro.html) 阅读完整的手册\n",
    "* 探索 [演练场示例](https://ts.nodejs.cn/play#show-examples)"
   ]
  }
 ],
 "metadata": {
  "kernelspec": {
   "display_name": "Typescript 4.9",
   "language": "typescript",
   "name": "typescript"
  },
  "language_info": {
   "file_extension": ".ts",
   "mimetype": "application/x-typescript",
   "name": "typescript",
   "version": "4.9.5"
  }
 },
 "nbformat": 4,
 "nbformat_minor": 5
}
