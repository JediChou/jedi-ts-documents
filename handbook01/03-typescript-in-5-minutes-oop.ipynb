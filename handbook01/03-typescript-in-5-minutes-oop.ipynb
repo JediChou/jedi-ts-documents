{
 "cells": [
  {
   "cell_type": "markdown",
   "id": "31acc059-e198-4ad7-b989-408ed256c0c9",
   "metadata": {},
   "source": [
    "# 面向 Java/C# 程序员的 TypeScript\n",
    "\n",
    "对于习惯于使用其他静态类型语言（例如 C# 和 Java）的程序员来说，TypeScript 是一个流行的选择。\n",
    "\n",
    "TypeScript 的类型系统提供了许多相同的好处，例如更好的代码完成、更早的错误检测以及程序各部分之间更清晰的通信。 虽然 TypeScript 为这些开发者提供了许多熟悉的功能，但值得回头看看 JavaScript（以及 TypeScript）与传统 OOP 语言有何不同。 了解这些差异将帮助你编写更好的 JavaScript 代码，并避免直接从 C#/Java 转到 TypeScript 的程序员可能掉入的常见陷阱。"
   ]
  },
  {
   "cell_type": "markdown",
   "id": "d4d864c6-faee-456e-a1cc-8e43b085599a",
   "metadata": {},
   "source": [
    "<br>\n",
    "\n",
    "## 共同学习 JavaScript\n",
    "\n",
    "如果你已经熟悉 JavaScript 但主要是 Java 或 C# 程序员，则此介绍性页面可以帮助解释你可能容易陷入的一些常见误解和陷阱。 TypeScript 建模类型的一些方式与 Java 或 C# 完全不同，在学习 TypeScript 时记住这些很重要。\n",
    "\n",
    "如果你是 Java 或 C# 程序员，一般来说是 JavaScript 的新手，我们建议你先学习一些没有类型的 JavaScript，以了解 JavaScript 的运行时行为。 因为 TypeScript 不会改变代码的运行方式，所以你仍然必须了解 JavaScript 的工作原理才能编写真正执行某些操作的代码！\n",
    "\n",
    "重要的是要记住 TypeScript 使用与 JavaScript 相同的运行时，因此关于如何完成特定运行时行为（将字符串转换为数字、显示警报、将文件写入磁盘等）的任何资源都将始终同样适用于 TypeScript 程序。 不要将自己局限于特定于 TypeScript 的资源！"
   ]
  },
  {
   "cell_type": "markdown",
   "id": "18ff3c2e-894b-4da2-bd64-d5523a00d2e1",
   "metadata": {},
   "source": [
    "<br>\n",
    "\n",
    "## 反思类\n",
    "\n",
    "C# 和 Java 是我们所谓的强制性 OOP 语言。 在这些语言中，类是代码组织的基本单位，也是运行时所有数据和行为的基本容器。 强制将所有功能和数据保存在类中可能是解决某些问题的良好字段模型，但并非每个字段都需要以这种方式表示。"
   ]
  },
  {
   "cell_type": "markdown",
   "id": "fd89db66-fbba-482e-9975-968151260d46",
   "metadata": {},
   "source": [
    "<br>\n",
    "\n",
    "### 释放函数和数据\n",
    "\n",
    "在 JavaScript 中，函数可以存在于任何地方，数据可以自由传递，而无需在预定义的 `class` 或 `struct` 中。 这种灵活性非常强大。 “自由的” 函数（与类无关的函数）在没有隐含的 OOP 层次结构的情况下处理数据往往是用 JavaScript 编写程序的首选模型。"
   ]
  },
  {
   "cell_type": "markdown",
   "id": "7b9aa915-8497-49c6-9c07-92e813acf5e1",
   "metadata": {},
   "source": [
    "<br>\n",
    "\n",
    "### 静态类\n",
    "\n",
    "此外，TypeScript 中不需要来自 C# 和 Java 的某些构造，例如单例和静态类。"
   ]
  },
  {
   "cell_type": "markdown",
   "id": "5e34b31b-e813-495e-8c19-30ea43f8319d",
   "metadata": {},
   "source": [
    "<br>\n",
    "\n",
    "## TypeScript 中的 OOP\n",
    "\n",
    "也就是说，如果你愿意，你仍然可以使用类！ 有些问题很适合通过传统的 OOP 层次结构来解决，而 TypeScript 对 JavaScript 类的支持将使这些模型更加强大。 TypeScript 支持许多常见模式，例如实现接口、继承和静态方法。\n",
    "\n",
    "我们将在本指南的后面介绍类。"
   ]
  },
  {
   "cell_type": "markdown",
   "id": "bbcadbca-133b-4404-8224-927712be0354",
   "metadata": {},
   "source": [
    "<br>\n",
    "\n",
    "## 反射类型\n",
    "\n",
    "TypeScript 对类型的理解实际上与 C# 或 Java 有很大的不同。 让我们探讨一些差异。"
   ]
  },
  {
   "cell_type": "markdown",
   "id": "d99ca006-b1f2-4039-8f27-b63ec45ea2c9",
   "metadata": {},
   "source": [
    "<br>\n",
    "\n",
    "### 名义具体化的类型系统\n",
    "\n",
    "在 C# 或 Java 中，任何给定的值或对象都具有一种确切的类型 - `null`、原始类型或已知的类类型。 我们可以调用 `value.GetType()` 或 `value.getClass()` 之类的方法来在运行时查询确切的类型。 这种类型的定义将驻留在某个具有某个名称的类中，我们不能使用两个具有相似形状的类来代替彼此，除非存在显式继承关系或共同实现的接口。\n",
    "\n",
    "这些方面描述了一个具体化的名义类型系统。 我们在代码中编写的类型在运行时存在，类型通过它们的声明而不是它们的结构相关。"
   ]
  },
  {
   "cell_type": "markdown",
   "id": "03fbb95c-6b8a-4de1-9631-2b2128ff7d31",
   "metadata": {},
   "source": [
    "<br>\n",
    "\n",
    "### 作为集合的类型\n",
    "\n",
    "在 C# 或 Java 中，考虑运行时类型与其编译时声明之间的一对一对应关系是有意义的。\n",
    "\n",
    "在 TypeScript 中，最好将类型视为一组具有共同点的值。 因为类型只是集合，所以一个特定的值可以同时属于多个集合。\n",
    "\n",
    "一旦开始将类型视为集合，某些操作就会变得非常自然。 例如，在 C# 中，传递 string 或 int 值是很尴尬的，因为没有一种类型可以表示这种值。\n",
    "\n",
    "在 TypeScript 中，一旦你意识到每个类型只是一个集合，这就变得很自然了。 你如何描述属于 `string` 集合或 `number` 集合的值？ 它只是属于这些集合的并集： `string | number`。\n",
    "\n",
    "TypeScript 提供了许多机制来以集合论的方式处理类型，如果你将类型视为集合，你会发现它们更直观。"
   ]
  },
  {
   "cell_type": "markdown",
   "id": "a7a511d0-b82b-4c04-b9c5-8e70d3111c8a",
   "metadata": {},
   "source": [
    "<br>\n",
    "\n",
    "### 擦除的结构类型\n",
    "\n",
    "在 TypeScript 中，对象不是单一的精确类型。 例如，如果我们构造一个满足接口的对象，我们可以在需要该接口的地方使用该对象，即使两者之间没有声明关系。"
   ]
  },
  {
   "cell_type": "code",
   "execution_count": 1,
   "id": "eb259fb5-ba51-4dac-b30b-37a47c08cf26",
   "metadata": {},
   "outputs": [
    {
     "data": {
      "text/html": [
       "<div style='background:#ffecb3;padding:1em;border-left:2px solid #ff6d00'><b>Configuration is not found!</b> Default configuration will be used: <pre>{\"module\":1,\"target\":1,\"moduleResolution\":2,\"esModuleInterop\":true}</pre></div>"
      ]
     },
     "execution_count": 1,
     "metadata": {},
     "output_type": "execute_result"
    },
    {
     "name": "stdout",
     "output_type": "stream",
     "text": [
      "x = 0, y = 0\n",
      "Hello, Origin\n"
     ]
    }
   ],
   "source": [
    "interface Pointlike {\n",
    "  x: number;\n",
    "  y: number;\n",
    "}\n",
    "interface Named {\n",
    "  name: string;\n",
    "}\n",
    " \n",
    "function logPoint(point: Pointlike) {\n",
    "  console.log(\"x = \" + point.x + \", y = \" + point.y);\n",
    "}\n",
    " \n",
    "function logName(x: Named) {\n",
    "  console.log(\"Hello, \" + x.name);\n",
    "}\n",
    " \n",
    "const obj = {\n",
    "  x: 0,\n",
    "  y: 0,\n",
    "  name: \"Origin\",\n",
    "};\n",
    " \n",
    "logPoint(obj);\n",
    "logName(obj);"
   ]
  },
  {
   "cell_type": "markdown",
   "id": "741a4cc3-4fee-4c6f-9b52-fe8aa910d2a4",
   "metadata": {},
   "source": [
    "<br>\n",
    "\n",
    "TypeScript 的类型系统是结构化的，而不是名义上的： 我们可以将 `obj` 用作 `Pointlike`，因为它具有 `x` 和 `y` 属性，它们都是数字。 类型之间的关系取决于它们包含的属性，而不是它们是否被声明为具有某种特定关系。\n",
    "\n",
    "TypeScript 的类型系统也没有具体化： 运行时没有任何信息可以告诉我们 `obj` 是 `Pointlike`。 事实上，`Pointlike` 类型在运行时不会以任何形式出现。\n",
    "\n",
    "回到类型作为集合的想法，我们可以将 `obj` 视为 `Pointlike` 值集和 `Named` 值集的成员。"
   ]
  },
  {
   "cell_type": "markdown",
   "id": "85cffd8e-1ba1-489b-a0ba-af9e4b1172a5",
   "metadata": {},
   "source": [
    "<br>\n",
    "\n",
    "### 结构类型的后果\n",
    "\n",
    "OOP 程序员经常对结构类型的两个特定方面感到惊讶。\n",
    "\n",
    "**空类型**\n",
    "\n",
    "首先是空类型似乎出乎意料："
   ]
  },
  {
   "cell_type": "code",
   "execution_count": 2,
   "id": "72468f73-e86e-4f7b-8c13-f9c4ef9101b4",
   "metadata": {},
   "outputs": [
    {
     "data": {
      "text/plain": [
       "undefined"
      ]
     },
     "execution_count": 2,
     "metadata": {},
     "output_type": "execute_result"
    }
   ],
   "source": [
    "class Empty {}\n",
    " \n",
    "function fn(arg: Empty) {\n",
    "  // do something?\n",
    "}\n",
    " \n",
    "// No error, but this isn't an 'Empty' ?\n",
    "fn({ k: 10 });"
   ]
  },
  {
   "cell_type": "markdown",
   "id": "14e0e67a-b7aa-44d5-a70b-b9037b3d2461",
   "metadata": {},
   "source": [
    "<br>\n",
    "\n",
    "TypeScript 通过查看提供的参数是否为有效的 `Empty` 来确定此处对 `fn` 的调用是否有效。 它通过检查 `{ k: 10 }` 和 `class Empty { }` 的结构来实现。 我们可以看到 `{ k: 10 }` 具有 `Empty` 具有的所有属性，因为 `Empty` 没有任何属性。 因此，这是一个有效的调用！\n",
    "\n",
    "这可能看起来令人惊讶，但它最终与名义 OOP 语言中强制执行的关系非常相似。 子类不能删除其基类的属性，因为这样做会破坏派生类与其基类之间的自然子类型关系。 结构类型系统通过根据具有兼容类型的属性来描述子类型来简单地隐式识别这种关系。"
   ]
  },
  {
   "cell_type": "markdown",
   "id": "6638b584-0327-4e55-bb3f-bc0719595d30",
   "metadata": {},
   "source": [
    "<br>\n",
    "\n",
    "**相同类型**\n",
    "\n",
    "另一个经常出人意料的来源是相同的类型："
   ]
  },
  {
   "cell_type": "code",
   "execution_count": 3,
   "id": "2636acdf-9018-4ae0-a3e0-da27113563a8",
   "metadata": {},
   "outputs": [
    {
     "name": "stdout",
     "output_type": "stream",
     "text": [
      "Golfer {}\n"
     ]
    },
    {
     "data": {
      "text/plain": [
       "undefined"
      ]
     },
     "execution_count": 3,
     "metadata": {},
     "output_type": "execute_result"
    }
   ],
   "source": [
    "class Car {\n",
    "  drive() {\n",
    "    // hit the gas\n",
    "  }\n",
    "}\n",
    "class Golfer {\n",
    "  drive() {\n",
    "    // hit the ball far\n",
    "  }\n",
    "}\n",
    "// No error?\n",
    "let w: Car = new Golfer();\n",
    "console.log(w);"
   ]
  },
  {
   "cell_type": "markdown",
   "id": "29d07061-41c0-451e-b1a1-2c2357a458a9",
   "metadata": {},
   "source": [
    "同样，这不是错误，因为这些类的结构是相同的。 虽然这看起来像是一个潜在的混淆来源，但在实践中，不应该相关的相同类并不常见。\n",
    "\n",
    "我们将在“类”一章中详细了解类之间的关系。"
   ]
  },
  {
   "cell_type": "markdown",
   "id": "f7cf8363-da38-4683-8eb4-f2830d0ea852",
   "metadata": {},
   "source": [
    "<br>\n",
    "\n",
    "### 反射\n",
    "\n",
    "OOP 程序员习惯于能够查询任何值的类型，甚至是通用值：\n",
    "\n",
    "```cs\n",
    "// C#\n",
    "static void LogType<T>() {\n",
    "    Console.WriteLine(typeof(T).Name);\n",
    "}\n",
    "```\n",
    "\n",
    "由于 TypeScript 的类型系统已被完全擦除，因此有关例如泛型类型参数的实例化在运行时不可用。\n",
    "\n",
    "JavaScript 确实有一些有限的原语，如 `typeof` 和 `instanceof`，但请记住，这些运算符仍在处理类型擦除输出代码中存在的值。 例如，`typeof (new Car())` 将是 `\"object\"`，而不是 `Car` 或 `\"Car\"`。"
   ]
  },
  {
   "cell_type": "markdown",
   "id": "0629201c-d327-48bb-80b5-3a22a8bf49b1",
   "metadata": {},
   "source": [
    "<br>\n",
    "\n",
    "## 下一步\n",
    "\n",
    "这是对日常 TypeScript 中使用的语法和工具的简要概述。 从这里，你可以：\n",
    "\n",
    "* [从头到尾](https://ts.nodejs.cn/docs/handbook/intro.html) 阅读完整的手册\n",
    "* 探索 [演练场示例](https://ts.nodejs.cn/play#show-examples)"
   ]
  }
 ],
 "metadata": {
  "kernelspec": {
   "display_name": "Typescript 4.9",
   "language": "typescript",
   "name": "typescript"
  },
  "language_info": {
   "file_extension": ".ts",
   "mimetype": "application/x-typescript",
   "name": "typescript",
   "version": "4.9.5"
  }
 },
 "nbformat": 4,
 "nbformat_minor": 5
}
