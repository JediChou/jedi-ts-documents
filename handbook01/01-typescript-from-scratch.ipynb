{
 "cells": [
  {
   "cell_type": "markdown",
   "id": "5bd2c9cd-92ad-4e65-ab87-16c76d871575",
   "metadata": {},
   "source": [
    "# 面向新程序员的 TypeScript\n",
    "\n",
    "祝贺你选择 TypeScript 作为你的首选语言之一 — 你已经做出了正确的决定！\n",
    "\n",
    "你可能已经听说 TypeScript 是 JavaScript 的 “香料” 或 “变体”。 TypeScript (TS) 和 JavaScript (JS) 之间的关系在现代编程语言中相当独特，因此更多地了解这种关系将有助于你了解 TypeScript 如何添加到 JavaScript 中。"
   ]
  },
  {
   "cell_type": "markdown",
   "id": "88db2f24-225b-4088-ab71-c9e4231dfaf7",
   "metadata": {},
   "source": [
    "<br>\n",
    "\n",
    "## 什么是 JavaScript？一个简短的历史\n",
    "\n",
    "JavaScript（也称为 ECMAScript）最初是一种用于浏览器的简单脚本语言。 在它被发明的时候，它被期望用于嵌入网页的短代码片段 — 编写超过几十行的代码有点不寻常。 因此，早期的网络浏览器执行此类代码的速度非常慢。 不过，随着时间的推移，JS 变得越来越流行，Web 开发者开始使用它来创建交互式体验。\n",
    "\n",
    "Web 浏览器开发者通过优化他们的执行引擎（动态编译）和扩展它的功能（添加 API）来应对 JS 使用的增加，这反过来又使 Web 开发者更多地使用它。 在现代网站上，你的浏览器经常运行跨越数十万行代码的应用。 这就是 “互联网” 漫长而渐进的成长过程，从一个简单的静态页面网络开始，逐渐演变成一个丰富的各类应用平台。\n",
    "\n",
    "不仅如此，JS 已经变得足够流行，可以在浏览器上下文之外使用，例如使用 node.js 实现 JS 服务器。 JS 的 “随处运行” 特性使其成为跨平台开发的有吸引力的选择。 现在有很多开发者只使用 JavaScript 来编写他们的整个堆栈！\n",
    "\n",
    "总而言之，我们拥有一种专为快速使用而设计的语言，然后发展成为一种成熟的工具来编写具有数百万行的应用。 每种语言都有自己的怪癖 — 古怪和惊喜，而 JavaScript 的不起眼的开端使它拥有许多这样的怪癖。 一些例子：\n",
    "\n",
    "* JavaScript 的相等运算符 (`==`) 强制转换其操作对象，导致意外行为：\n",
    "\n",
    "```js\n",
    "if (\"\" == 0) {\n",
    "  // It is! But why??\n",
    "}\n",
    "if (1 < x < 3) {\n",
    "  // True for *any* value of x!\n",
    "}\n",
    "```\n",
    "\n",
    "* JavaScript 还允许访问不存在的属性：\n",
    "\n",
    "```js\n",
    "const obj = { width: 10, height: 15 };\n",
    "// Why is this NaN? Spelling is hard!\n",
    "const area = obj.width * obj.heigth;\n",
    "```\n",
    "\n",
    "大多数编程语言会在发生此类错误时抛出错误，有些会在编译期间抛出错误 — 在任何代码运行之前。 在编写小程序时，这种怪癖很烦人但可以管理； 在编写包含数百或数千行代码的应用时，这些不断出现的意外是一个严重的问题。"
   ]
  },
  {
   "cell_type": "markdown",
   "id": "0d588b17-6f65-4232-bf98-ab4956658523",
   "metadata": {},
   "source": [
    "<br>\n",
    "\n",
    "## TypeScript：静态类型检查器\n",
    "\n",
    "我们之前说过，有些语言根本不允许那些有缺陷的程序运行。 在不运行代码的情况下检测代码中的错误称为静态检查。 根据正在操作的值的种类来确定什么是错误，什么不是错误，这被称为静态类型检查。\n",
    "\n",
    "TypeScript 在执行前检查程序是否有错误，并根据值的种类进行检查，使其成为静态类型检查器。 例如，上面的最后一个例子因为 obj 的类型而出错。 这是 TypeScript 发现的错误："
   ]
  },
  {
   "cell_type": "code",
   "execution_count": 1,
   "id": "307e5110-78c3-43f6-80f6-858720bc6ba5",
   "metadata": {},
   "outputs": [
    {
     "ename": "Error",
     "evalue": "Line 2, Character 30\nconst area = obj.width * obj.heigth;\n_____________________________^\nTS2551: Property 'heigth' does not exist on type '{ width: number; height: number; }'. Did you mean 'height'?",
     "execution_count": 1,
     "output_type": "error",
     "traceback": [
      "Error: Line 2, Character 30",
      "const area = obj.width * obj.heigth;",
      "_____________________________^",
      "TS2551: Property 'heigth' does not exist on type '{ width: number; height: number; }'. Did you mean 'height'?",
      "    at execTranspile (C:\\Users\\Hao\\AppData\\Roaming\\npm\\node_modules\\itypescript\\lib\\kernel.js:229:23)",
      "    at Session.transpiler [as transpile] (C:\\Users\\Hao\\AppData\\Roaming\\npm\\node_modules\\itypescript\\lib\\kernel.js:288:35)",
      "    at Session._runNow (C:\\Users\\Hao\\AppData\\Roaming\\npm\\node_modules\\itypescript\\node_modules\\nel\\lib\\nel.js:835:39)",
      "    at Session._run (C:\\Users\\Hao\\AppData\\Roaming\\npm\\node_modules\\itypescript\\node_modules\\nel\\lib\\nel.js:786:14)",
      "    at Session.execute (C:\\Users\\Hao\\AppData\\Roaming\\npm\\node_modules\\itypescript\\node_modules\\nel\\lib\\nel.js:929:10)",
      "    at Kernel.execute_request (C:\\Users\\Hao\\AppData\\Roaming\\npm\\node_modules\\itypescript\\node_modules\\jp-kernel\\lib\\handlers_v5.js:116:18)",
      "    at Kernel.onShellMessage (C:\\Users\\Hao\\AppData\\Roaming\\npm\\node_modules\\itypescript\\node_modules\\jp-kernel\\lib\\jp-kernel.js:285:41)",
      "    at Socket.<anonymous> (C:\\Users\\Hao\\AppData\\Roaming\\npm\\node_modules\\itypescript\\node_modules\\jmp\\index.js:350:17)",
      "    at Socket.emit (node:events:513:28)",
      "    at Socket._emitMessage (C:\\Users\\Hao\\AppData\\Roaming\\npm\\node_modules\\itypescript\\node_modules\\zeromq\\lib\\index.js:649:15)"
     ]
    }
   ],
   "source": [
    "const obj = { width: 10, height: 15 };\n",
    "const area = obj.width * obj.heigth;"
   ]
  },
  {
   "cell_type": "markdown",
   "id": "01f73d77-7db4-44fc-a161-fa12586303b5",
   "metadata": {},
   "source": [
    "<br>\n",
    "\n",
    "## 类型化的 JavaScript 超集\n",
    "\n",
    "但是，TypeScript 与 JavaScript 有何关系？\n",
    "\n",
    "**语法**\n",
    "\n",
    "TypeScript 是一种语言，是 JavaScript 的超集： 因此 JS 语法是合法的 TS。 语法是指我们编写文本以形成程序的方式。 例如，此代码存在语法错误，因为它缺少 `)`："
   ]
  },
  {
   "cell_type": "code",
   "execution_count": 2,
   "id": "e1a91e06-4522-499c-9888-8ec4dbeffe85",
   "metadata": {},
   "outputs": [
    {
     "ename": "Error",
     "evalue": "Line 1, Character 11\nlet a = (4\n__________^\nTS1005: ')' expected.",
     "execution_count": 2,
     "output_type": "error",
     "traceback": [
      "Error: Line 1, Character 11",
      "let a = (4",
      "__________^",
      "TS1005: ')' expected.",
      "    at execTranspile (C:\\Users\\Hao\\AppData\\Roaming\\npm\\node_modules\\itypescript\\lib\\kernel.js:229:23)",
      "    at Session.transpiler [as transpile] (C:\\Users\\Hao\\AppData\\Roaming\\npm\\node_modules\\itypescript\\lib\\kernel.js:288:35)",
      "    at Session._runNow (C:\\Users\\Hao\\AppData\\Roaming\\npm\\node_modules\\itypescript\\node_modules\\nel\\lib\\nel.js:835:39)",
      "    at Session._run (C:\\Users\\Hao\\AppData\\Roaming\\npm\\node_modules\\itypescript\\node_modules\\nel\\lib\\nel.js:786:14)",
      "    at Session.execute (C:\\Users\\Hao\\AppData\\Roaming\\npm\\node_modules\\itypescript\\node_modules\\nel\\lib\\nel.js:929:10)",
      "    at Kernel.execute_request (C:\\Users\\Hao\\AppData\\Roaming\\npm\\node_modules\\itypescript\\node_modules\\jp-kernel\\lib\\handlers_v5.js:116:18)",
      "    at Kernel.onShellMessage (C:\\Users\\Hao\\AppData\\Roaming\\npm\\node_modules\\itypescript\\node_modules\\jp-kernel\\lib\\jp-kernel.js:285:41)",
      "    at Socket.<anonymous> (C:\\Users\\Hao\\AppData\\Roaming\\npm\\node_modules\\itypescript\\node_modules\\jmp\\index.js:350:17)",
      "    at Socket.emit (node:events:513:28)",
      "    at Socket._emitMessage (C:\\Users\\Hao\\AppData\\Roaming\\npm\\node_modules\\itypescript\\node_modules\\zeromq\\lib\\index.js:649:15)"
     ]
    }
   ],
   "source": [
    "let a = (4"
   ]
  },
  {
   "cell_type": "markdown",
   "id": "5730a8bc-65d3-4d17-8581-b48049625d07",
   "metadata": {},
   "source": [
    "<br>\n",
    "\n",
    "由于其语法，TypeScript 不会将任何 JavaScript 代码视为错误。 这意味着你可以将任何有效的 JavaScript 代码放入 TypeScript 文件中，而不必担心它的具体编写方式。\n",
    "\n",
    "**类型**\n",
    "\n",
    "然而，TypeScript 是一个类型超集，这意味着它添加了关于如何使用不同类型的值的规则。 前面关于 `obj.heigth` 的错误不是语法错误： 它是以不正确的方式使用某种值（类型）的错误。\n",
    "\n",
    "作为另一个示例，这是你可以在浏览器中运行的 JavaScript 代码，它将记录一个值："
   ]
  },
  {
   "cell_type": "code",
   "execution_count": 3,
   "id": "0916dd52-686b-485c-a52c-78dedd9501a0",
   "metadata": {},
   "outputs": [
    {
     "ename": "Error",
     "evalue": "Line 1, Character 17\nconsole.log(4 / []);\n________________^\nTS2363: The right-hand side of an arithmetic operation must be of type 'any', 'number', 'bigint' or an enum type.",
     "execution_count": 3,
     "output_type": "error",
     "traceback": [
      "Error: Line 1, Character 17",
      "console.log(4 / []);",
      "________________^",
      "TS2363: The right-hand side of an arithmetic operation must be of type 'any', 'number', 'bigint' or an enum type.",
      "    at execTranspile (C:\\Users\\Hao\\AppData\\Roaming\\npm\\node_modules\\itypescript\\lib\\kernel.js:229:23)",
      "    at Session.transpiler [as transpile] (C:\\Users\\Hao\\AppData\\Roaming\\npm\\node_modules\\itypescript\\lib\\kernel.js:288:35)",
      "    at Session._runNow (C:\\Users\\Hao\\AppData\\Roaming\\npm\\node_modules\\itypescript\\node_modules\\nel\\lib\\nel.js:835:39)",
      "    at Session._run (C:\\Users\\Hao\\AppData\\Roaming\\npm\\node_modules\\itypescript\\node_modules\\nel\\lib\\nel.js:786:14)",
      "    at Session.execute (C:\\Users\\Hao\\AppData\\Roaming\\npm\\node_modules\\itypescript\\node_modules\\nel\\lib\\nel.js:929:10)",
      "    at Kernel.execute_request (C:\\Users\\Hao\\AppData\\Roaming\\npm\\node_modules\\itypescript\\node_modules\\jp-kernel\\lib\\handlers_v5.js:116:18)",
      "    at Kernel.onShellMessage (C:\\Users\\Hao\\AppData\\Roaming\\npm\\node_modules\\itypescript\\node_modules\\jp-kernel\\lib\\jp-kernel.js:285:41)",
      "    at Socket.<anonymous> (C:\\Users\\Hao\\AppData\\Roaming\\npm\\node_modules\\itypescript\\node_modules\\jmp\\index.js:350:17)",
      "    at Socket.emit (node:events:513:28)",
      "    at Socket._emitMessage (C:\\Users\\Hao\\AppData\\Roaming\\npm\\node_modules\\itypescript\\node_modules\\zeromq\\lib\\index.js:649:15)"
     ]
    }
   ],
   "source": [
    "console.log(4 / []);"
   ]
  },
  {
   "cell_type": "markdown",
   "id": "b583c223-6880-4fce-976b-7d5a48d5a3d8",
   "metadata": {},
   "source": [
    "<br>\n",
    "\n",
    "这个语法上合法的程序记录了 `Infinity`。 但是，TypeScript 将数字除以数组视为无意义的操作，并且会触发错误：\n",
    "\n",
    "有可能你真的打算将一个数字除以一个数组，也许只是为了看看会发生什么，但大多数时候，这是一个编程错误。 TypeScript 的类型检查器旨在允许正确的程序通过，同时仍然捕获尽可能多的常见错误。 （稍后，我们将了解可用于配置 TypeScript 检查代码的严格程度的设置。）\n",
    "\n",
    "如果将一些代码从 JavaScript 文件移动到 TypeScript 文件，你可能会看到类型错误，具体取决于代码的编写方式。 这些可能是代码的合理问题，或者 TypeScript 过于保守。 在本指南中，我们将演示如何添加各种 TypeScript 语法来消除此类错误。\n",
    "\n",
    "**运行时行为**\n",
    "\n",
    "TypeScript 也是一种保留了 JavaScript 运行时行为的编程语言。 例如，在 JavaScript 中除以零会产生 `Infinity` 而不是抛出运行时异常。 作为原则，TypeScript **从不** 改变 JavaScript 代码的运行时行为。\n",
    "\n",
    "这意味着，如果你将代码从 JavaScript 移至 TypeScript，则 **保证** 以相同的方式运行，即使 TypeScript 认为代码存在类型错误。\n",
    "\n",
    "保持与 JavaScript 相同的运行时行为是 TypeScript 的基本保证，因为这意味着你可以轻松地在两种语言之间转换，而不必担心可能导致程序停止运行的细微差异。\n",
    "\n",
    "**擦除的类型**\n",
    "\n",
    "粗略地说，一旦 TypeScript 的编译器检查完你的代码，它就会擦除类型以生成结果的 “编译” 代码。 这意味着一旦你的代码被编译，生成的普通 JS 代码就没有类型信息。\n",
    "\n",
    "这也意味着 TypeScript 永远不会根据它推断的类型更改程序的行为。 最重要的是，虽然你可能会在编译期间看到类型错误，但类型系统本身与程序运行时的工作方式无关。\n",
    "\n",
    "最后，TypeScript 不提供任何额外的运行时库。 你的程序将使用与 JavaScript 程序相同的标准库（或外部库），因此无需学习额外的 TypeScript 特定框架。"
   ]
  },
  {
   "cell_type": "markdown",
   "id": "ce112839-edf4-4f6e-90cb-2650607b8fe4",
   "metadata": {},
   "source": [
    "<br>\n",
    "\n",
    "## 学习 JavaScript 和 TypeScript\n",
    "\n",
    "我们经常看到 “我应该学习 JavaScript 还是 TypeScript？” 这个问题。\n",
    "\n",
    "答案是不学 JavaScript 就学不会 TypeScript！ TypeScript 与 JavaScript 共享语法和运行时行为，因此你学习的任何有关 JavaScript 的知识都可以同时帮助你学习 TypeScript。\n",
    "\n",
    "有很多资源可供程序员学习 JavaScript； 如果你正在编写 TypeScript，则不应忽略这些资源。 例如，标记为 `javascript` 的 StackOverflow 问题是 `typescript` 的大约 20 倍，但所有 `javascript` 问题也适用于 TypeScript。\n",
    "\n",
    "如果你发现自己正在搜索类似 “如何在 TypeScript 中对列表进行排序” 的内容，请记住： **TypeScript 是带有编译时类型检查器的 JavaScript 运行时**。 在 TypeScript 中对列表进行排序的方式与在 JavaScript 中排序的方式相同。 如果你找到直接使用 TypeScript 的资源，那也很好，但不要局限于认为你需要特定于 TypeScript 的答案来解决有关如何完成运行时任务的日常问题。"
   ]
  },
  {
   "cell_type": "markdown",
   "id": "d8382d7b-bd05-42ba-8dc2-d93d4cdb4b34",
   "metadata": {},
   "source": [
    "<br>\n",
    "\n",
    "## 下一步\n",
    "\n",
    "这是对日常 TypeScript 中使用的语法和工具的简要概述。 从这里，你可以：\n",
    "\n",
    "* 学习一些 JavaScript 基础知识，我们推荐：\n",
    "  * [微软的 JavaScript 资源](https://developer.microsoft.com/javascript/) 或\n",
    "  * [Mozilla 网络文档中的 JavaScript 指南](https://developer.mozilla.org/docs/Web/JavaScript/Guide)\n",
    "* 继续 [面向 JavaScript 程序员的 TypeScript](https://ts.nodejs.cn/docs/handbook/typescript-in-5-minutes.html)\n",
    "* [从头到尾](https://ts.nodejs.cn/docs/handbook/intro.html) 阅读完整的手册\n",
    "* 探索 [演练场示例](https://ts.nodejs.cn/play#show-examples)"
   ]
  }
 ],
 "metadata": {
  "kernelspec": {
   "display_name": "Typescript 4.9",
   "language": "typescript",
   "name": "typescript"
  },
  "language_info": {
   "file_extension": ".ts",
   "mimetype": "application/x-typescript",
   "name": "typescript",
   "version": "4.9.5"
  }
 },
 "nbformat": 4,
 "nbformat_minor": 5
}
